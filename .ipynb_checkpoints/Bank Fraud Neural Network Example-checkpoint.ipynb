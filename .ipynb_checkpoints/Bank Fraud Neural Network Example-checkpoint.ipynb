{
 "cells": [
  {
   "cell_type": "code",
   "execution_count": 195,
   "metadata": {},
   "outputs": [],
   "source": [
    "#import the necessary libraries to perform a Sequential Neural Network using Keras\n",
    "import pandas as pd\n",
    "import numpy\n",
    "import arff\n",
    "import sklearn\n",
    "from keras.models import Sequential\n",
    "from keras.layers import Dense"
   ]
  },
  {
   "cell_type": "code",
   "execution_count": 13,
   "metadata": {},
   "outputs": [],
   "source": [
    "#Load arff file\n",
    "dataset = arff.load(open('credit_fraud2.arff','r'))"
   ]
  },
  {
   "cell_type": "code",
   "execution_count": 62,
   "metadata": {},
   "outputs": [],
   "source": [
    "#Convert to numpy array\n",
    "data = numpy.array(dataset['data'])"
   ]
  },
  {
   "cell_type": "code",
   "execution_count": null,
   "metadata": {},
   "outputs": [],
   "source": [
    "#convert to pandas dataframe\n",
    "DF = pd.DataFrame(data)\n",
    "\n",
    "#Recode variable status of checking account to an ordinal variable\n",
    "#between 0 and 1\n",
    "DF[0].unique()\n",
    "di0 ={'no checking':0.25, '<0':0.50, '0<=X<200':0.75,  '>=200':1.00}\n",
    "\n",
    "#Recode variable Credit History to an ordinal variable between 0 and 1\n",
    "DF[2].unique()\n",
    "di2 ={'no credits/all paid':0.20, 'all paid':0.40, 'existing paid':0.60, \n",
    "      'delayed previously':0.80, 'critical/other existing credit':1.00}\n",
    "\n",
    "#Convert purpose to a binary variable\n",
    "DF[3].unique()\n",
    "DF3=pd.get_dummies(DF[3])\n",
    "\n",
    "#Recode Savings Accounts/Bonds to an ordinal variable between 0 and 1\n",
    "DF[5].unique()\n",
    "di5 = {'no known savings':0.2,'<100':0.4,'100<=X<500':0.6, \n",
    "       '500<=X<1000':0.8,'>=1000':1.0}\n",
    "\n",
    "#Recode Employment Years Status to an ordian variable between 0 and 1\n",
    "DF[6].unique()\n",
    "di6 = {'unemployed':0.2, '<1':0.4, '1<=X<4':0.6, '4<=X<7':0.8, \n",
    "       '>=7':1.0}\n",
    "\n",
    "#Convert Personal status to an ordinal variable\n",
    "DF8=pd.get_dummies(DF[8])\n",
    "\n",
    "#Convert Application to a binary variable\n",
    "DF9=pd.get_dummies(DF[9])\n",
    "\n",
    "#Convert property to a binary variable\n",
    "DF11=pd.get_dummies(DF[11])\n",
    "\n",
    "#Convert installment plans to a binary variable\n",
    "DF[13].unique()\n",
    "DF13=pd.get_dummies(DF[13])\n",
    "\n",
    "#Convert Housing to a binary variable\n",
    "DF[14].unique()\n",
    "DF14=pd.get_dummies(DF[14])\n",
    "\n",
    "#Convert Job type to a binary variable\n",
    "DF[16].unique()\n",
    "DF16=pd.get_dummies(DF[16])\n",
    "\n",
    "#Convert have telephone, Foreign worker, Credit \n",
    "#to a binary variable this variable is being \n",
    "#recoded to limit the number of columns since \n",
    "#there is only two #outcomes\n",
    "DF[18].unique()\n",
    "d18 = {'yes':1, 'none':0}\n",
    "\n",
    "#Foreign Worker Y/N\n",
    "DF[19].unique()\n",
    "d19 = {'yes':1, 'no':0}\n",
    "\n",
    "#Credit Good Bad\n",
    "DF[20].unique()\n",
    "d20 = {'good':1, 'bad':0}\n",
    "\n",
    "#Use the dictionaries to recode each of the columns so that they\n",
    "#can be passed to the neural network\n",
    "DF = DF.replace({0:di0,2:di2,5:di5, 6:di6, 18:d18, 19:d19, 20:d20})\n",
    "\n",
    "#Rename Column names to the appropriate name\n",
    "DF_Names = DF.rename(columns={0:'Checking_Account',1:'Duration_In_Month',\n",
    "                              2:'Credit_History',3:'Purpose',4:'Credit_Amount', \n",
    "                              5:'Savings',6:'Work_Tenure', \n",
    "                              7:'Installment_Rate_%_Income', \n",
    "                              8:'Sex/Maritial_Status',\n",
    "                              9:'Application', 10:'Present_Residence_Since',\n",
    "                              11:'Property', 12:'Age',\n",
    "                              13:'Other_Installment_Plans', 14:'Housing', \n",
    "                              15:'Number_of_Existing_Credits_at_Bank',\n",
    "                              16:'Job',17:'Number_of_People_Maintenance',\n",
    "                              18:'Telephone', 19:'Foreign_Worker', 20:'Credit_Result'})\n",
    "\n",
    "\n",
    "\n",
    "#Separate Variables into their separate types\n",
    "Ordinal_Variables = DF_Names[[0,2,5,6,18,19,20]]\n",
    "Binary_Variables = pd.concat([DF3,DF8,DF9,DF11,DF13,DF14,DF16], axis=1)\n",
    "Continous_Variables = DF_Names[[1,4,7,10,12,15,17]]\n",
    "\n",
    "#Normalize Continous Variables \n",
    "from sklearn import preprocessing\n",
    "Normalize = pd.DataFrame(preprocessing.normalize(Continous_Variables))\n",
    "\n",
    "#Combine back into one Dataframe\n",
    "DF_NN = pd.concat([Binary_Variables, Normalize, Ordinal_Variables], axis=1)\n",
    "\n",
    "#Rename Normalized Columns\n",
    "DF_NN = DF_NN.rename(columns={0:'Duration_In_Month', 1:'Credit_Amount', 2:'Installment_Rate_%_Income',\n",
    "                             3:'Present_Residence_Since', 4:'Age', 5:'Number_of_Existing_Credits_at_Bank',\n",
    "                             6:'Number_of_People_Maintenance'})"
   ]
  },
  {
   "cell_type": "code",
   "execution_count": null,
   "metadata": {},
   "outputs": [],
   "source": [
    "#Breakdown data into training and testing set\n",
    "DF_ARRAY = DF_NN.values\n",
    "sample = numpy.random.rand(len(DF_ARRAY)) < 0.8\n",
    "\n",
    "train = DF_ARRAY[sample]\n",
    "test = DF_ARRAY[~sample]\n",
    "\n",
    "#Split into dependent and independendant variables\n",
    "X = train[:,0:44]\n",
    "Y = train[:,44]"
   ]
  },
  {
   "cell_type": "code",
   "execution_count": null,
   "metadata": {},
   "outputs": [],
   "source": [
    "#Use Sequential model from keras\n",
    "model = Sequential()\n",
    "#input layer has 44 nodes to match input data\n",
    "#use relu activation layer\n",
    "model.add(Dense(44,input_dim=44,activation='relu'))\n",
    "#run model through a 100 node hidden layer \n",
    "#and relu activation layer as this\n",
    "#will reduce the liklihood of vanishing gradient\n",
    "#and sparsity\n",
    "model.add(Dense(100,activation='relu'))\n",
    "#run the output from the hidden layer\n",
    "#through sigmoid activation layer because\n",
    "#this will force the result between 0 and 1\n",
    "#the two possible outcomes\n",
    "model.add(Dense(1,activation='sigmoid'))"
   ]
  },
  {
   "cell_type": "code",
   "execution_count": null,
   "metadata": {},
   "outputs": [],
   "source": [
    "#create model\n",
    "#use binary crossentropy to calculate loss as the outcome is 2 defined classes\n",
    "#use the adam optimizer because it is computationally efficient and requires\n",
    "#a small amount of memory\n",
    "#use accuracy as a metric as we are mostly concerened with classes where\n",
    "#they default\n",
    "model.compile(loss='binary_crossentropy',  optimizer='adam', metrics=['accuracy'])\n",
    "model.fit(X,Y,epochs=150, batch_size=10)"
   ]
  },
  {
   "cell_type": "code",
   "execution_count": 206,
   "metadata": {},
   "outputs": [
    {
     "name": "stdout",
     "output_type": "stream",
     "text": [
      " 32/194 [===>..........................] - ETA: 1s\n",
      "acc: 72.16%\n"
     ]
    }
   ],
   "source": [
    "#Break test set into dependent and independant variables\n",
    "X_Test = test[:,0:44]\n",
    "Y_Test = test[:,44]\n",
    "\n",
    "#evaluate model using test set data\n",
    "scores = model.evaluate(X_Test,Y_Test)\n",
    "print(\"\\n%s: %.2f%%\" % (model.metrics_names[1], scores[1]*100))\n",
    "\n",
    "\n",
    "#In my case the model shows that on average it is correct 72% of the time in predicting fraud "
   ]
  }
 ],
 "metadata": {
  "kernelspec": {
   "display_name": "Python 3",
   "language": "python",
   "name": "python3"
  },
  "language_info": {
   "codemirror_mode": {
    "name": "ipython",
    "version": 3
   },
   "file_extension": ".py",
   "mimetype": "text/x-python",
   "name": "python",
   "nbconvert_exporter": "python",
   "pygments_lexer": "ipython3",
   "version": "3.7.1"
  }
 },
 "nbformat": 4,
 "nbformat_minor": 1
}
